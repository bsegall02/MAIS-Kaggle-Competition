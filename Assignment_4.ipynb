{
  "nbformat": 4,
  "nbformat_minor": 0,
  "metadata": {
    "accelerator": "GPU",
    "colab": {
      "name": "Assignment 4.ipynb",
      "provenance": [],
      "collapsed_sections": [
        "Z8KthAx2Oi2b",
        "QeaoE5N9zqS9",
        "5WvoZrVJOxOy",
        "Njz5e9xlNuCt",
        "GK-3J_AgQZ4w"
      ],
      "toc_visible": true,
      "machine_shape": "hm"
    },
    "kernelspec": {
      "display_name": "Python 3",
      "name": "python3"
    }
  },
  "cells": [
    {
      "cell_type": "code",
      "metadata": {
        "colab": {
          "base_uri": "https://localhost:8080/"
        },
        "id": "BpDnPEIv1iEI",
        "outputId": "483b2cd9-3781-462b-88bd-c81fa013820d"
      },
      "source": [
        "from google.colab import drive\n",
        "drive.mount('/content/drive')"
      ],
      "execution_count": null,
      "outputs": [
        {
          "output_type": "stream",
          "text": [
            "Drive already mounted at /content/drive; to attempt to forcibly remount, call drive.mount(\"/content/drive\", force_remount=True).\n"
          ],
          "name": "stdout"
        }
      ]
    },
    {
      "cell_type": "code",
      "metadata": {
        "id": "5AAqdjC5TH6-"
      },
      "source": [
        "import numpy as np\n",
        "import matplotlib.pyplot as plt\n",
        "import cv2 as cv\n",
        "import pandas as pd\n",
        "import seaborn as sns\n",
        "import pathlib\n",
        "import os\n",
        "import datetime\n",
        "import random\n",
        "from PIL import Image\n",
        "import tensorflow as tf\n",
        "import keras\n",
        "from tensorflow.keras.preprocessing.image import *\n",
        "from tensorflow.keras import layers\n",
        "from tensorflow.keras.models import Sequential, Model\n",
        "from tensorflow.keras.layers import *\n",
        "from tensorflow.keras.optimizers import *\n",
        "from tensorflow.keras.applications import *\n",
        "from tensorflow.keras.callbacks import *\n",
        "from tensorflow.keras.initializers import *\n",
        "from tensorflow.keras.preprocessing.image import ImageDataGenerator\n",
        "from tensorflow.keras.applications.resnet50 import preprocess_input"
      ],
      "execution_count": null,
      "outputs": []
    },
    {
      "cell_type": "markdown",
      "metadata": {
        "id": "8sdpoO1BI3LD"
      },
      "source": [
        "## Data Preprocessing"
      ]
    },
    {
      "cell_type": "markdown",
      "metadata": {
        "id": "JAISGO0GOVXz"
      },
      "source": [
        "#### Download and extract data"
      ]
    },
    {
      "cell_type": "code",
      "metadata": {
        "colab": {
          "base_uri": "https://localhost:8080/"
        },
        "id": "q9n0lA-t61oH",
        "outputId": "d0682fc0-6de9-45b8-eef1-9ca590bc6ac5"
      },
      "source": [
        "!pip install kaggle --upgrade -q\n",
        "%env KAGGLE_USERNAME=kevinnguyen2k11\n",
        "%env KAGGLE_KEY=35fc0c92f00cee8af034c80535d9092d\n",
        "!kaggle competitions download -c mais-202-winter-2021-kaggle-comp -p /content -q"
      ],
      "execution_count": null,
      "outputs": [
        {
          "output_type": "stream",
          "text": [
            "env: KAGGLE_USERNAME=kevinnguyen2k11\n",
            "env: KAGGLE_KEY=35fc0c92f00cee8af034c80535d9092d\n",
            "Warning: Looks like you're using an outdated API Version, please consider updating (server 1.5.12 / client 1.5.4)\n"
          ],
          "name": "stdout"
        }
      ]
    },
    {
      "cell_type": "code",
      "metadata": {
        "id": "LXFLGgKhJUTz",
        "colab": {
          "base_uri": "https://localhost:8080/"
        },
        "outputId": "336170ef-948b-4865-ad7b-395befa784ab"
      },
      "source": [
        "!unzip -o -q '*.zip' \n",
        "!rm *.zip\n",
        "train_images = np.load(\"/content/train_x.npy\")\n",
        "train_labels = np.loadtxt('/content/train_y.csv',delimiter=',',skiprows=1,usecols=1).astype('uint8')\n",
        "test_images = np.load(\"/content/test_x.npy\")\n",
        "train_images = train_images.reshape(train_images.shape[0], train_images.shape[1], train_images.shape[2], 1).astype('uint8')\n",
        "test_images = test_images.reshape(test_images.shape[0], test_images.shape[1], test_images.shape[2], 1).astype('uint8')"
      ],
      "execution_count": null,
      "outputs": [
        {
          "output_type": "stream",
          "text": [
            "\n",
            "2 archives were successfully processed.\n"
          ],
          "name": "stdout"
        }
      ]
    },
    {
      "cell_type": "markdown",
      "metadata": {
        "id": "Z8KthAx2Oi2b"
      },
      "source": [
        "#### Define preprocessing function"
      ]
    },
    {
      "cell_type": "code",
      "metadata": {
        "id": "YIiTplE4xJcX"
      },
      "source": [
        "# Preprocessing function to extract digits from image data.\n",
        "# Returns images with pixel values either 1 or 0.\n",
        "\n",
        "def preprocess(array):\n",
        "  x = np.copy(array)\n",
        "  x = np.where(x >= 225, 255, 0).astype('uint8')\n",
        "  contours = cv.findContours(x, cv.RETR_EXTERNAL, cv.CHAIN_APPROX_NONE)[-2]\n",
        "  contours = sorted(contours, key=cv.contourArea, reverse=True)\n",
        "\n",
        "  noise = []\n",
        "  for i in range(3,len(contours)):\n",
        "    area = cv.contourArea(contours[i])\n",
        "    x1,y,w,h = cv.boundingRect(contours[i])\n",
        "    aspect_ratio = float(w)/h    \n",
        "    rect_area = w*h\n",
        "    extent = float(area)/rect_area\n",
        "    # print('area:',area,'aspect:',aspect_ratio,'extent:',extent)\n",
        "    if (area < 32.5 and aspect_ratio < 2.51 and aspect_ratio > 0.3 and extent > 0.04) or area == 0:\n",
        "      noise.append(contours[i])\n",
        "    # else:\n",
        "    #   print('EXCEPTION')\n",
        "  \n",
        "  cv.drawContours(x, noise, -1, 0, 4)\n",
        "  x = np.where(x == 0, 0, 1)\n",
        "  return x.reshape(128,128,1).astype('uint8')"
      ],
      "execution_count": null,
      "outputs": []
    },
    {
      "cell_type": "markdown",
      "metadata": {
        "id": "QeaoE5N9zqS9"
      },
      "source": [
        "#### Expand the dataset by oversampling image classes that occur at low frequency"
      ]
    },
    {
      "cell_type": "code",
      "metadata": {
        "id": "ncQQIOARjSaq"
      },
      "source": [
        "# Duplicate low frequency image classes so that every class \n",
        "# is in equal proportions.\n",
        "\n",
        "label_dict = {}\n",
        "for index in range(len(train_labels)):\n",
        "  label = train_labels[index]\n",
        "  if label in label_dict:\n",
        "    label_dict[label].append(train_images[index])\n",
        "  else:\n",
        "    label_dict[label] = [train_images[index]]\n",
        "\n",
        "expanded_ds = []\n",
        "expanded_y = []\n",
        "for i in range(10):\n",
        "  if i != 9:\n",
        "    length_quota = len(label_dict[9]) - len(label_dict[i])\n",
        "    copies = []\n",
        "    while length_quota > 0:\n",
        "      index = random.randint(0, len(label_dict[i]) - 1)\n",
        "      copies.append(label_dict[i][index])\n",
        "      length_quota -= 1\n",
        "    copies = np.concatenate((label_dict[i],copies))\n",
        "  else:\n",
        "    copies = label_dict[i]\n",
        "  if i == 0:\n",
        "    expanded_ds = copies\n",
        "  else:\n",
        "    expanded_ds = np.concatenate((expanded_ds,copies))\n",
        "  expanded_y = np.concatenate((expanded_y,[i]*len(copies)))\n",
        "\n",
        "combined = list(zip(expanded_ds, expanded_y))\n",
        "random.shuffle(combined)\n",
        "expanded_ds, expanded_y = zip(*combined)\n",
        "expanded_ds = np.array(expanded_ds).astype('uint8')\n",
        "expanded_y = np.array(expanded_y).astype('uint8')\n",
        "preprocessed_ds = np.copy(expanded_ds)"
      ],
      "execution_count": null,
      "outputs": []
    },
    {
      "cell_type": "markdown",
      "metadata": {
        "id": "5WvoZrVJOxOy"
      },
      "source": [
        "#### Preprocess the dataset and create training and validation sets"
      ]
    },
    {
      "cell_type": "code",
      "metadata": {
        "colab": {
          "base_uri": "https://localhost:8080/"
        },
        "id": "oUJEn6s7whsa",
        "outputId": "4519a52c-8a43-4dad-ab37-779355520fe5"
      },
      "source": [
        "batch_size = 16\n",
        "\n",
        "data_length = len(expanded_ds)\n",
        "split = round(data_length*0.8)\n",
        "\n",
        "for i in range(data_length):\n",
        "  expanded_ds[i] = preprocess(expanded_ds[i])\n",
        "\n",
        "train_ds = expanded_ds[:split]\n",
        "val_ds = expanded_ds[split:]\n",
        "\n",
        "train_y = expanded_y[:split]\n",
        "val_y = expanded_y[split:]\n",
        "\n",
        "print(\"Found {} images.\".format(data_length))\n",
        "print(\"Using {} images for training, {} images for validation.\".format(split, data_length - split))\n",
        "\n",
        "# test1 = cv.cvtColor(test,cv.COLOR_GRAY2RGB)"
      ],
      "execution_count": null,
      "outputs": [
        {
          "output_type": "stream",
          "text": [
            "Found 107520 images.\n",
            "Using 86016 images for training, 21504 images for validation.\n"
          ],
          "name": "stdout"
        }
      ]
    },
    {
      "cell_type": "markdown",
      "metadata": {
        "id": "Njz5e9xlNuCt"
      },
      "source": [
        "#### Alternatively, use data generator to apply random transformations"
      ]
    },
    {
      "cell_type": "code",
      "metadata": {
        "id": "-Z6VX3WjJCuB"
      },
      "source": [
        "batch_size = 16\n",
        "\n",
        "for i in range(len(expanded_ds)):\n",
        "  expanded_ds[i] = preprocess(expanded_ds[i])\n",
        "\n",
        "train_img_data_gen = ImageDataGenerator(validation_split=0.2,\n",
        "                                  #  featurewise_center=True,\n",
        "                                   samplewise_center=False,\n",
        "                                  #  featurewise_std_normalization=True,\n",
        "                                   samplewise_std_normalization=False,\n",
        "                                   fill_mode='nearest',\n",
        "                                   rotation_range=20,\n",
        "                                   width_shift_range=0.09,\n",
        "                                   height_shift_range=0.09,\n",
        "                                   shear_range=20,\n",
        "                                  #  zca_epsilon=0.1,\n",
        "                                   zca_whitening=False\n",
        "                                  )\n",
        "\n",
        "train_img_data_gen.fit(expanded_ds)\n",
        "\n",
        "train_ds_gen = train_img_data_gen.flow(x=expanded_ds,\n",
        "                                y=expanded_y,\n",
        "                                batch_size=batch_size,\n",
        "                                subset='training',\n",
        "                                shuffle=True\n",
        "                              )\n",
        "\n",
        "\n",
        "val_ds_gen = train_img_data_gen.flow(x=expanded_ds,\n",
        "                                y=expanded_y,\n",
        "                                batch_size=batch_size,\n",
        "                                subset='validation',\n",
        "                                shuffle=True\n",
        "                              )"
      ],
      "execution_count": null,
      "outputs": []
    },
    {
      "cell_type": "markdown",
      "metadata": {
        "id": "GK-3J_AgQZ4w"
      },
      "source": [
        "#### Visualize first 3 preprocessed images"
      ]
    },
    {
      "cell_type": "code",
      "metadata": {
        "id": "HN4gb4L_lXR3",
        "colab": {
          "base_uri": "https://localhost:8080/",
          "height": 700
        },
        "outputId": "470b3c56-7494-45ae-a4fe-83b5a74435a3"
      },
      "source": [
        "# Shows three stages. From top to bottom, these are original image, \n",
        "# thresholded image, and finally image with noise removed using contours.\n",
        "\n",
        "def show_image(arr):\n",
        "    two_d = (np.reshape(arr, (128, 128)) * 255).astype(np.uint8)\n",
        "    plt.imshow(two_d, interpolation='nearest', cmap='gray', vmin=0, vmax=255)\n",
        "    plt.show()\n",
        "\n",
        "def threshold(x):\n",
        "  x = np.where(x >= 225., 255, 0)\n",
        "  x = x.astype('uint8')\n",
        "  return x.reshape(128,128,1)*1./255.\n",
        "\n",
        "for i in range(3):\n",
        "  show_image(preprocessed_ds[i])\n",
        "  show_image(threshold(preprocessed_ds[i]))\n",
        "  show_image(train_ds[i])"
      ],
      "execution_count": null,
      "outputs": [
        {
          "output_type": "display_data",
          "data": {
            "image/png": "[encoded data removed]",
            "text/plain": [
              "<Figure size 432x288 with 1 Axes>"
            ]
          },
          "metadata": {
            "tags": [],
            "needs_background": "light"
          }
        },
        {
          "output_type": "display_data",
          "data": {
            "image/png": "[encoded data removed]",
            "text/plain": [
              "<Figure size 432x288 with 1 Axes>"
            ]
          },
          "metadata": {
            "tags": [],
            "needs_background": "light"
          }
        },
        {
          "output_type": "error",
          "ename": "NameError",
          "evalue": "ignored",
          "traceback": [
            "\u001b[0;31m---------------------------------------------------------------------------\u001b[0m",
            "\u001b[0;31mNameError\u001b[0m                                 Traceback (most recent call last)",
            "\u001b[0;32m<ipython-input-19-6350e6b7e011>\u001b[0m in \u001b[0;36m<module>\u001b[0;34m()\u001b[0m\n\u001b[1;32m     15\u001b[0m   \u001b[0mshow_image\u001b[0m\u001b[0;34m(\u001b[0m\u001b[0mpreprocessed_ds\u001b[0m\u001b[0;34m[\u001b[0m\u001b[0mi\u001b[0m\u001b[0;34m]\u001b[0m\u001b[0;34m)\u001b[0m\u001b[0;34m\u001b[0m\u001b[0;34m\u001b[0m\u001b[0m\n\u001b[1;32m     16\u001b[0m   \u001b[0mshow_image\u001b[0m\u001b[0;34m(\u001b[0m\u001b[0mthreshold\u001b[0m\u001b[0;34m(\u001b[0m\u001b[0mpreprocessed_ds\u001b[0m\u001b[0;34m[\u001b[0m\u001b[0mi\u001b[0m\u001b[0;34m]\u001b[0m\u001b[0;34m)\u001b[0m\u001b[0;34m)\u001b[0m\u001b[0;34m\u001b[0m\u001b[0;34m\u001b[0m\u001b[0m\n\u001b[0;32m---> 17\u001b[0;31m   \u001b[0mshow_image\u001b[0m\u001b[0;34m(\u001b[0m\u001b[0mtrain_ds\u001b[0m\u001b[0;34m[\u001b[0m\u001b[0mi\u001b[0m\u001b[0;34m]\u001b[0m\u001b[0;34m)\u001b[0m\u001b[0;34m\u001b[0m\u001b[0;34m\u001b[0m\u001b[0m\n\u001b[0m",
            "\u001b[0;31mNameError\u001b[0m: name 'train_ds' is not defined"
          ]
        }
      ]
    },
    {
      "cell_type": "markdown",
      "metadata": {
        "id": "xYkDCTrVNmOZ"
      },
      "source": [
        "## Create and train model"
      ]
    },
    {
      "cell_type": "markdown",
      "metadata": {
        "id": "GaW0YQHfXr39"
      },
      "source": [
        "#### Initialize model layers"
      ]
    },
    {
      "cell_type": "code",
      "metadata": {
        "id": "A6wquXMb-Srj"
      },
      "source": [
        "num_classes = 10\n",
        "\n",
        "model = Sequential()\n",
        "model.add(Conv2D(32, (3, 3), padding='same', activation='relu', input_shape=(128,128,1)))\n",
        "model.add(Conv2D(32, (3, 3), activation='relu'))\n",
        "model.add(MaxPooling2D(pool_size=(2, 2)))\n",
        "model.add(BatchNormalization())\n",
        "\n",
        "model.add(Conv2D(64, (3, 3), padding='same', activation='relu'))\n",
        "model.add(Conv2D(64, (3, 3), activation='relu'))\n",
        "model.add(MaxPooling2D(pool_size=(2, 2)))\n",
        "model.add(BatchNormalization())\n",
        "\n",
        "model.add(Conv2D(128, (3, 3), padding='same', activation='relu'))\n",
        "model.add(Conv2D(128, (3, 3), activation='relu'))\n",
        "model.add(MaxPooling2D(pool_size=(2, 2)))\n",
        "# model.add(BatchNormalization())\n",
        "\n",
        "model.add(Conv2D(256, (3, 3), padding='same', activation='relu'))\n",
        "model.add(Conv2D(256, (3, 3), activation='relu'))\n",
        "model.add(MaxPooling2D(pool_size=(2, 2)))\n",
        "# model.add(BatchNormalization())\n",
        "\n",
        "model.add(Flatten())\n",
        "model.add(Dense(2048, activation='relu'))\n",
        "model.add(Dense(2048, activation='relu'))\n",
        "model.add(Dense(2048, activation='relu'))\n",
        "model.add(Dense(2048, activation='relu'))\n",
        "model.add(Dense(2048, activation='relu'))\n",
        "\n",
        "model.add(Dense(num_classes, activation='softmax'))"
      ],
      "execution_count": null,
      "outputs": []
    },
    {
      "cell_type": "code",
      "metadata": {
        "id": "qg38UBpZCEFr"
      },
      "source": [
        "# Load previously saved model if necessary\n",
        "model = tf.keras.models.load_model('/content/drive/MyDrive/Colab Notebooks/MAIS/model-best3')"
      ],
      "execution_count": null,
      "outputs": []
    },
    {
      "cell_type": "code",
      "metadata": {
        "id": "_epmbiLTCfOQ"
      },
      "source": [
        "# Ensure model layers are correct\n",
        "model.summary()"
      ],
      "execution_count": null,
      "outputs": []
    },
    {
      "cell_type": "markdown",
      "metadata": {
        "id": "15x1yxOrN6v5"
      },
      "source": [
        "#### Set learning rate and batch size"
      ]
    },
    {
      "cell_type": "code",
      "metadata": {
        "id": "XcxhuFJLOm0V"
      },
      "source": [
        "opt = keras.optimizers.Adam(learning_rate=0.00001)\n",
        "batch_size = 16\n",
        "\n",
        "model.compile(\n",
        "  optimizer=opt,\n",
        "  loss=tf.losses.SparseCategoricalCrossentropy(),\n",
        "  metrics=['sparse_categorical_accuracy'])"
      ],
      "execution_count": null,
      "outputs": []
    },
    {
      "cell_type": "markdown",
      "metadata": {
        "id": "PfP3ijj7OAOS"
      },
      "source": [
        "#### Set parameters such as early stopping, learning rate schedule, then train model"
      ]
    },
    {
      "cell_type": "code",
      "metadata": {
        "id": "Ilyqzt9yEHmy"
      },
      "source": [
        "print('Start training:',datetime.datetime.now())\n",
        "\n",
        "modelPath = '/content/drive/MyDrive/Colab Notebooks/MAIS/6layer-best1'\n",
        "\n",
        "earlyStopping = EarlyStopping(monitor='val_loss', patience=30, verbose=0, mode='min')\n",
        "mcp_save = ModelCheckpoint(modelPath, save_best_only=True, monitor='val_loss', mode='min')\n",
        "reduce_lr_loss = ReduceLROnPlateau(monitor='val_loss', factor=0.1, patience=5, verbose=1, mode='min')\n",
        "\n",
        "model.fit(\n",
        "    x=expanded_ds,\n",
        "    y=expanded_y,\n",
        "    # validation_data=(val_ds, val_y),\n",
        "    # validation_data=val_ds_gen,\n",
        "    epochs=50,\n",
        "    batch_size=batch_size,\n",
        "    verbose=1,\n",
        "    initial_epoch=0,\n",
        "    max_queue_size=350,\n",
        "    workers=350,\n",
        "    use_multiprocessing=False,\n",
        "    # callbacks=[earlyStopping, mcp_save, reduce_lr_loss]\n",
        ")"
      ],
      "execution_count": null,
      "outputs": []
    },
    {
      "cell_type": "markdown",
      "metadata": {
        "id": "8LV3w-k1OQQf"
      },
      "source": [
        "#### Preprocess test dataset"
      ]
    },
    {
      "cell_type": "code",
      "metadata": {
        "id": "a4TEijyxiU0u"
      },
      "source": [
        "test_ds = np.copy(test_images)\n",
        "for i in range(len(test_ds)):\n",
        "  test_ds[i] = preprocess(test_ds[i])"
      ],
      "execution_count": null,
      "outputs": []
    },
    {
      "cell_type": "markdown",
      "metadata": {
        "id": "y7CnMO5KOUAT"
      },
      "source": [
        "#### Generate predictions on test dataset and save to csv file"
      ]
    },
    {
      "cell_type": "code",
      "metadata": {
        "id": "6dq0_AAciTOE"
      },
      "source": [
        "print(\"Evaluate on test data\")\n",
        "results = model.predict(test_ds, verbose=1)\n",
        "dataframe = {'Id':np.arange(len(results)).astype('uint16'),'Category':np.argmax(results,axis=1).astype('uint8')}\n",
        "df = pd.DataFrame(dataframe)\n",
        "df.to_csv('results.csv',index=False)"
      ],
      "execution_count": null,
      "outputs": []
    },
    {
      "cell_type": "markdown",
      "metadata": {
        "id": "siNHtzQiOqS0"
      },
      "source": [
        "#### Visualize first 3 test images and predictions then submit to kaggle"
      ]
    },
    {
      "cell_type": "code",
      "metadata": {
        "id": "qrTKr0kds7E3"
      },
      "source": [
        "for i in range(len(results,3)):\n",
        "  print(np.argmax(results[i]))\n",
        "  show_image(test_images[i])"
      ],
      "execution_count": null,
      "outputs": []
    },
    {
      "cell_type": "code",
      "metadata": {
        "colab": {
          "base_uri": "https://localhost:8080/"
        },
        "id": "Y1dG1YvSE2yE",
        "outputId": "2e71d354-62dc-483c-cf3e-ce0d1840a121"
      },
      "source": [
        "!kaggle competitions submit -c mais-202-winter-2021-kaggle-comp -f results1.csv -m \"Message\""
      ],
      "execution_count": null,
      "outputs": [
        {
          "output_type": "stream",
          "text": [
            "Warning: Looks like you're using an outdated API Version, please consider updating (server 1.5.12 / client 1.5.4)\n",
            "\r  0% 0.00/67.3k [00:00<?, ?B/s]\r100% 67.3k/67.3k [00:00<00:00, 321kB/s]\n",
            "Successfully submitted to MAIS 202 Winter 2021 - Assignment 4"
          ],
          "name": "stdout"
        }
      ]
    },
    {
      "cell_type": "markdown",
      "metadata": {
        "id": "ZglKvgzzPCCA"
      },
      "source": [
        "#### Visualize confusion matrix on training set"
      ]
    },
    {
      "cell_type": "code",
      "metadata": {
        "id": "PcUE-ikioHsR",
        "colab": {
          "base_uri": "https://localhost:8080/",
          "height": 616
        },
        "outputId": "0f867c2f-0c48-4bc0-d5d6-2a81a7d59106"
      },
      "source": [
        "# Confusion matrix\n",
        "\n",
        "imgs = expanded_ds\n",
        "labels = tf.convert_to_tensor(expanded_y)\n",
        "predictions = model.predict(imgs, verbose=1, max_queue_size=100, workers=80)\n",
        "predictions_num = [np.argmax(row) for row in predictions]\n",
        "predictions_num = tf.convert_to_tensor(predictions_num)\n",
        "classes = [0,1,2,3,4,5,6,7,8,9]\n",
        "\n",
        "con_mat = tf.math.confusion_matrix(labels=labels, predictions=predictions_num, num_classes=10).numpy()\n",
        "con_mat_norm = np.around(con_mat.astype('float') / con_mat.sum(axis=1)[:, np.newaxis], decimals=2)\n",
        "\n",
        "con_mat_df = pd.DataFrame(con_mat_norm,\n",
        "                     index = classes, \n",
        "                     columns = classes)\n",
        "\n",
        "figure = plt.figure(figsize=(8, 8))\n",
        "sns.heatmap(con_mat_df, annot=True,cmap=plt.cm.Blues)\n",
        "plt.tight_layout()\n",
        "plt.ylabel('True label')\n",
        "plt.xlabel('Predicted label')\n",
        "plt.show()"
      ],
      "execution_count": null,
      "outputs": [
        {
          "output_type": "stream",
          "text": [
            "3360/3360 [==============================] - 25s 8ms/step\n"
          ],
          "name": "stdout"
        },
        {
          "output_type": "display_data",
          "data": {
            "image/png": "[encoded data removed]",
            "text/plain": [
              "<Figure size 576x576 with 2 Axes>"
            ]
          },
          "metadata": {
            "tags": [],
            "needs_background": "light"
          }
        }
      ]
    }
  ]
}